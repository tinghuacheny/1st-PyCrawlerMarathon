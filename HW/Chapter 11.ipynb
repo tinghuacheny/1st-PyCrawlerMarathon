{
 "cells": [
  {
   "cell_type": "code",
   "execution_count": 8,
   "metadata": {},
   "outputs": [
    {
     "name": "stdout",
     "output_type": "stream",
     "text": [
      "請輸入值:2\n",
      "絕對值是: 2\n"
     ]
    }
   ],
   "source": [
    "def myabs():\n",
    "    if a>0:\n",
    "        value=a\n",
    "    else:\n",
    "        value=abs(a)\n",
    "    return value\"\"\"return?\"\"\"\n",
    "a=int(input(\"請輸入值:\"))\n",
    "print(\"絕對值是:\",myabs())"
   ]
  },
  {
   "cell_type": "code",
   "execution_count": 18,
   "metadata": {},
   "outputs": [
    {
     "ename": "IndentationError",
     "evalue": "unexpected indent (<ipython-input-18-8d6c031aebae>, line 6)",
     "output_type": "error",
     "traceback": [
      "\u001b[1;36m  File \u001b[1;32m\"<ipython-input-18-8d6c031aebae>\"\u001b[1;36m, line \u001b[1;32m6\u001b[0m\n\u001b[1;33m    print(a-b)\u001b[0m\n\u001b[1;37m    ^\u001b[0m\n\u001b[1;31mIndentationError\u001b[0m\u001b[1;31m:\u001b[0m unexpected indent\n"
     ]
    }
   ],
   "source": [
    "def count(a,b):\n",
    "    if c==\"+\":\n",
    "        add=a+b\n",
    "    elif c==\"-\":\n",
    "        sub=a-b\n",
    "           \n",
    "    elif c==\"*\":\n",
    "          mul=a*b\n",
    "          \n",
    "    else:\n",
    "        c==\"/\"\n",
    "        diver=a/b\n",
    "       \n",
    "    \n",
    "  \n",
    "\n",
    "X1=int(input(\"請輸入第1個數字:\")) \n",
    "X2=int(input(\"請輸入第2個數字:\"))\n",
    "c=input(\"請輸入運算值(+,-,*,/):\")\n"
   ]
  },
  {
   "cell_type": "code",
   "execution_count": 12,
   "metadata": {},
   "outputs": [
    {
     "name": "stdout",
     "output_type": "stream",
     "text": [
      "Mr. Huang Carl Ivan Welcome\n",
      "Miss Hung Ice Mary Welcome\n"
     ]
    }
   ],
   "source": [
    "def guest_info( gender,firstname, middlename, lastname):\n",
    "    if gender==\"M\":\n",
    "       welcome=\"Mr. \"+lastname+\" \"+middlename+\" \"+firstname+\" Welcome\"\n",
    "    else:\n",
    "       welcome=\"Miss \"+lastname+\" \"+middlename+\" \"+firstname+\" Welcome\"\n",
    "    return welcome\n",
    "info1=guest_info('M','Ivan','Carl','Huang')\n",
    "info2=guest_info('F','Mary','Ice','Hung')\n",
    "print(info1)\n",
    "print(info2)"
   ]
  },
  {
   "cell_type": "code",
   "execution_count": 5,
   "metadata": {},
   "outputs": [
    {
     "name": "stdout",
     "output_type": "stream",
     "text": [
      "1\n",
      "2\n",
      "+\n",
      "3\n"
     ]
    }
   ],
   "source": [
    "a=eval(input(\"\"))\n",
    "b=eval(input(\"\"))\n",
    "c=input(\"\")\n",
    "if(c==\"+\"):\n",
    "  print(a+b)\n",
    "elif(c==\"-\"):\n",
    "  print(a-b)\n",
    "elif(c==\"*\"):\n",
    "  print(a*b)\n",
    "elif(c==\"/\"):\n",
    "  print(a/b)\n",
    "elif(c==\"%\"):\n",
    "  print(a%b)\n",
    "elif(c==\"//\"):\n",
    "  print(a//b)"
   ]
  },
  {
   "cell_type": "code",
   "execution_count": null,
   "metadata": {},
   "outputs": [],
   "source": []
  }
 ],
 "metadata": {
  "kernelspec": {
   "display_name": "Python 3",
   "language": "python",
   "name": "python3"
  },
  "language_info": {
   "codemirror_mode": {
    "name": "ipython",
    "version": 3
   },
   "file_extension": ".py",
   "mimetype": "text/x-python",
   "name": "python",
   "nbconvert_exporter": "python",
   "pygments_lexer": "ipython3",
   "version": "3.7.4"
  }
 },
 "nbformat": 4,
 "nbformat_minor": 2
}
